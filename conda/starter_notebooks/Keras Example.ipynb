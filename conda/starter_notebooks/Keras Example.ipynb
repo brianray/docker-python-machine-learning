{
 "cells": [
  {
   "cell_type": "code",
   "execution_count": 1,
   "metadata": {
    "collapsed": false
   },
   "outputs": [
    {
     "name": "stderr",
     "output_type": "stream",
     "text": [
      "Using Theano backend.\n"
     ]
    },
    {
     "name": "stdout",
     "output_type": "stream",
     "text": [
      "Loading data...\n",
      "Downloading data from https://s3.amazonaws.com/text-datasets/imdb_full.pkl\n",
      "65503232/65552540 [============================>.] - ETA: 0s25000 train sequences\n",
      "25000 test sequences\n",
      "Pad sequences (samples x time)\n",
      "X_train shape: (25000, 80)\n",
      "X_test shape: (25000, 80)\n",
      "Build model...\n",
      "Train...\n",
      "Train on 25000 samples, validate on 25000 samples\n",
      "Epoch 1/15\n",
      "25000/25000 [==============================] - 403s - loss: 0.5302 - acc: 0.7320 - val_loss: 0.3974 - val_acc: 0.8288\n",
      "Epoch 2/15\n",
      "25000/25000 [==============================] - 418s - loss: 0.3825 - acc: 0.8334 - val_loss: 0.4010 - val_acc: 0.8312\n",
      "Epoch 3/15\n",
      "25000/25000 [==============================] - 360s - loss: 0.3143 - acc: 0.8692 - val_loss: 0.3783 - val_acc: 0.8311\n",
      "Epoch 4/15\n",
      "25000/25000 [==============================] - 178s - loss: 0.2579 - acc: 0.8947 - val_loss: 0.3816 - val_acc: 0.8354\n",
      "Epoch 5/15\n",
      "25000/25000 [==============================] - 172s - loss: 0.2110 - acc: 0.9164 - val_loss: 0.4297 - val_acc: 0.8337\n",
      "Epoch 6/15\n",
      "25000/25000 [==============================] - 167s - loss: 0.1810 - acc: 0.9293 - val_loss: 0.4165 - val_acc: 0.8316\n",
      "Epoch 7/15\n",
      "25000/25000 [==============================] - 168s - loss: 0.1484 - acc: 0.9419 - val_loss: 0.4725 - val_acc: 0.8302\n",
      "Epoch 8/15\n",
      "25000/25000 [==============================] - 177s - loss: 0.1276 - acc: 0.9526 - val_loss: 0.5151 - val_acc: 0.8282\n",
      "Epoch 9/15\n",
      "25000/25000 [==============================] - 165s - loss: 0.1164 - acc: 0.9566 - val_loss: 0.5796 - val_acc: 0.8245\n",
      "Epoch 10/15\n",
      "25000/25000 [==============================] - 170s - loss: 0.1062 - acc: 0.9616 - val_loss: 0.5274 - val_acc: 0.8199\n",
      "Epoch 11/15\n",
      "25000/25000 [==============================] - 171s - loss: 0.0950 - acc: 0.9636 - val_loss: 0.5786 - val_acc: 0.8205\n",
      "Epoch 12/15\n",
      "25000/25000 [==============================] - 160s - loss: 0.0838 - acc: 0.9683 - val_loss: 0.5784 - val_acc: 0.8165\n",
      "Epoch 13/15\n",
      "25000/25000 [==============================] - 169s - loss: 0.0771 - acc: 0.9708 - val_loss: 0.6288 - val_acc: 0.8163\n",
      "Epoch 14/15\n",
      "25000/25000 [==============================] - 176s - loss: 0.0724 - acc: 0.9736 - val_loss: 0.6601 - val_acc: 0.8117\n",
      "Epoch 15/15\n",
      "25000/25000 [==============================] - 159s - loss: 0.0617 - acc: 0.9778 - val_loss: 0.6935 - val_acc: 0.8134\n",
      "25000/25000 [==============================] - 38s    \n",
      "Test score: 0.693522153567\n",
      "Test accuracy: 0.81336\n"
     ]
    }
   ],
   "source": [
    "'''Trains a LSTM on the IMDB sentiment classification task.\n",
    "The dataset is actually too small for LSTM to be of any advantage\n",
    "compared to simpler, much faster methods such as TF-IDF + LogReg.\n",
    "Notes:\n",
    "- RNNs are tricky. Choice of batch size is important,\n",
    "choice of loss and optimizer is critical, etc.\n",
    "Some configurations won't converge.\n",
    "- LSTM loss decrease patterns during training can be quite different\n",
    "from what you see with CNNs/MLPs/etc.\n",
    "'''\n",
    "from __future__ import print_function\n",
    "import numpy as np\n",
    "np.random.seed(1337)  # for reproducibility\n",
    "\n",
    "from keras.preprocessing import sequence\n",
    "from keras.utils import np_utils\n",
    "from keras.models import Sequential\n",
    "from keras.layers import Dense, Dropout, Activation, Embedding\n",
    "from keras.layers import LSTM, SimpleRNN, GRU\n",
    "from keras.datasets import imdb\n",
    "\n",
    "max_features = 20000\n",
    "maxlen = 80  # cut texts after this number of words (among top max_features most common words)\n",
    "batch_size = 32\n",
    "\n",
    "print('Loading data...')\n",
    "(X_train, y_train), (X_test, y_test) = imdb.load_data(nb_words=max_features)\n",
    "print(len(X_train), 'train sequences')\n",
    "print(len(X_test), 'test sequences')\n",
    "\n",
    "print('Pad sequences (samples x time)')\n",
    "X_train = sequence.pad_sequences(X_train, maxlen=maxlen)\n",
    "X_test = sequence.pad_sequences(X_test, maxlen=maxlen)\n",
    "print('X_train shape:', X_train.shape)\n",
    "print('X_test shape:', X_test.shape)\n",
    "\n",
    "print('Build model...')\n",
    "model = Sequential()\n",
    "model.add(Embedding(max_features, 128, input_length=maxlen, dropout=0.2))\n",
    "model.add(LSTM(128, dropout_W=0.2, dropout_U=0.2))  # try using a GRU instead, for fun\n",
    "model.add(Dense(1))\n",
    "model.add(Activation('sigmoid'))\n",
    "\n",
    "# try using different optimizers and different optimizer configs\n",
    "model.compile(loss='binary_crossentropy',\n",
    "              optimizer='adam',\n",
    "              metrics=['accuracy'])\n",
    "\n",
    "print('Train...')\n",
    "model.fit(X_train, y_train, batch_size=batch_size, nb_epoch=15,\n",
    "          validation_data=(X_test, y_test))\n",
    "score, acc = model.evaluate(X_test, y_test,\n",
    "                            batch_size=batch_size)\n",
    "print('Test score:', score)\n",
    "print('Test accuracy:', acc)"
   ]
  },
  {
   "cell_type": "code",
   "execution_count": null,
   "metadata": {
    "collapsed": true
   },
   "outputs": [],
   "source": []
  }
 ],
 "metadata": {
  "kernelspec": {
   "display_name": "Python 3",
   "language": "python",
   "name": "python3"
  },
  "language_info": {
   "codemirror_mode": {
    "name": "ipython",
    "version": 3
   },
   "file_extension": ".py",
   "mimetype": "text/x-python",
   "name": "python",
   "nbconvert_exporter": "python",
   "pygments_lexer": "ipython3",
   "version": "3.5.2"
  }
 },
 "nbformat": 4,
 "nbformat_minor": 1
}
